{
 "cells": [
  {
   "cell_type": "code",
   "execution_count": null,
   "id": "e9299b18-3de9-493a-896d-a6ea8e76c9ae",
   "metadata": {},
   "outputs": [],
   "source": [
    "note"
   ]
  }
 ],
 "metadata": {
  "kernelspec": {
   "display_name": "Python 3",
   "language": "python",
   "name": "python3"
  },
  "language_info": {
   "codemirror_mode": {
    "name": "ipython",
    "version": 3
   },
   "file_extension": ".py",
   "mimetype": "text/x-python",
   "name": "python",
   "nbconvert_exporter": "python",
   "pygments_lexer": "ipython3",
   "version": "3.8.8"
  }
 },
 "nbformat": 4,
 "nbformat_minor": 5
}
